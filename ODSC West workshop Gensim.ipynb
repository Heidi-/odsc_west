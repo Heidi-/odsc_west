{
 "cells": [
  {
   "cell_type": "markdown",
   "metadata": {},
   "source": [
    "# Gensim model"
   ]
  },
  {
   "cell_type": "code",
   "execution_count": 1,
   "metadata": {},
   "outputs": [],
   "source": [
    "import pandas as pd\n",
    "from pprint import pprint\n",
    "from gensim.models.ldamodel import LdaModel\n",
    "import gensim.corpora as corpora\n",
    "from gensim.corpora import MmCorpus\n",
    "from gensim.utils import simple_preprocess\n",
    "from nltk.corpus import stopwords\n",
    "import matplotlib.pyplot as plt\n",
    "from gensim.models import CoherenceModel\n",
    "import pyLDAvis.gensim\n",
    "import numpy as np\n",
    "from sklearn.model_selection import train_test_split\n",
    "from sklearn import preprocessing\n",
    "from sklearn.metrics import classification_report, confusion_matrix"
   ]
  },
  {
   "cell_type": "code",
   "execution_count": 2,
   "metadata": {},
   "outputs": [],
   "source": [
    "df = pd.read_csv(\"bbc-text.csv\")\n",
    "stopword_list = stopwords.words(\"english\")\n",
    "stopword_list = stopword_list + [\"said\", \"also\", \"would\", \"first\", \"last\", \"one\", \"like\", \"could\", \"us\", \"uk\", \"year\"]"
   ]
  },
  {
   "cell_type": "code",
   "execution_count": 3,
   "metadata": {},
   "outputs": [],
   "source": [
    "def preprocess_gensim(df):\n",
    "    df['text'] = df['text'].apply(lambda x: simple_preprocess(x))\n",
    "    df['text'] = df['text'].apply(lambda x: [word for word in x if word not in stopword_list])\n",
    "    return df"
   ]
  },
  {
   "cell_type": "code",
   "execution_count": 4,
   "metadata": {},
   "outputs": [],
   "source": [
    "def create_lda_model_gensim(id_dict, corpus, num_topics):\n",
    "    lda_model = LdaModel(corpus=corpus,\n",
    "                         id2word=id_dict,\n",
    "                         num_topics=num_topics, \n",
    "                         random_state=100,\n",
    "                         chunksize=100,\n",
    "                         passes=10)\n",
    "    return lda_model"
   ]
  },
  {
   "cell_type": "code",
   "execution_count": 5,
   "metadata": {},
   "outputs": [
    {
     "name": "stdout",
     "output_type": "stream",
     "text": [
      "[(0,\n",
      "  '0.018*\"mr\" + 0.007*\"people\" + 0.006*\"government\" + 0.006*\"blair\" + '\n",
      "  '0.006*\"labour\" + 0.005*\"party\" + 0.004*\"election\" + 0.004*\"told\" + '\n",
      "  '0.004*\"minister\" + 0.004*\"new\"'),\n",
      " (1,\n",
      "  '0.014*\"film\" + 0.010*\"best\" + 0.006*\"music\" + 0.005*\"show\" + 0.005*\"awards\" '\n",
      "  '+ 0.005*\"new\" + 0.005*\"number\" + 0.004*\"album\" + 0.004*\"award\" + '\n",
      "  '0.004*\"tv\"'),\n",
      " (2,\n",
      "  '0.011*\"people\" + 0.006*\"mobile\" + 0.006*\"technology\" + 0.006*\"new\" + '\n",
      "  '0.005*\"net\" + 0.005*\"use\" + 0.005*\"digital\" + 0.005*\"many\" + 0.004*\"music\" '\n",
      "  '+ 0.004*\"software\"'),\n",
      " (3,\n",
      "  '0.011*\"bn\" + 0.008*\"sales\" + 0.005*\"company\" + 0.005*\"market\" + '\n",
      "  '0.005*\"growth\" + 0.004*\"firm\" + 0.004*\"new\" + 0.004*\"bank\" + 0.004*\"rise\" + '\n",
      "  '0.004*\"economic\"'),\n",
      " (4,\n",
      "  '0.007*\"game\" + 0.006*\"time\" + 0.006*\"england\" + 0.005*\"players\" + '\n",
      "  '0.005*\"world\" + 0.005*\"back\" + 0.005*\"win\" + 0.005*\"two\" + 0.005*\"team\" + '\n",
      "  '0.004*\"play\"')]\n"
     ]
    }
   ],
   "source": [
    "df = preprocess_gensim(df)\n",
    "texts = df['text'].values\n",
    "id_dict = corpora.Dictionary(texts)\n",
    "corpus = [id_dict.doc2bow(text) for text in texts]\n",
    "number_topics = 5\n",
    "lda_model = create_lda_model_gensim(id_dict, corpus, number_topics)\n",
    "pprint(lda_model.print_topics())"
   ]
  },
  {
   "cell_type": "markdown",
   "metadata": {},
   "source": [
    "# Topic coherence: choosing number of topics"
   ]
  },
  {
   "cell_type": "code",
   "execution_count": 6,
   "metadata": {},
   "outputs": [],
   "source": [
    "def plot_coherence(id_dict, corpus, texts):\n",
    "    num_topics_range = range(2, 10)\n",
    "    coherences = []\n",
    "    for num_topics in num_topics_range:\n",
    "        lda_model = create_lda_model_gensim(id_dict, corpus, num_topics)\n",
    "        coherence_model_lda = CoherenceModel(model=lda_model, texts=texts, dictionary=id_dict, coherence='c_npmi')\n",
    "        coherences.append(coherence_model_lda.get_coherence())\n",
    "    plt.plot(num_topics_range, coherences, color='blue', marker='o', markersize=5)\n",
    "    plt.title('Coherence as a function of number of topics')\n",
    "    plt.xlabel('Number of topics')\n",
    "    plt.ylabel('Coherence')\n",
    "    plt.grid()\n",
    "    plt.show()"
   ]
  },
  {
   "cell_type": "code",
   "execution_count": null,
   "metadata": {},
   "outputs": [
    {
     "data": {
      "image/png": "[encoded data removed]",
      "text/plain": [
       "<Figure size 432x288 with 1 Axes>"
      ]
     },
     "metadata": {
      "needs_background": "light"
     },
     "output_type": "display_data"
    }
   ],
   "source": [
    "plot_coherence(id_dict, corpus, texts)"
   ]
  },
  {
   "cell_type": "markdown",
   "metadata": {},
   "source": [
    "# Visualization"
   ]
  },
  {
   "cell_type": "code",
   "execution_count": null,
   "metadata": {},
   "outputs": [],
   "source": [
    "lda_prepared = pyLDAvis.gensim.prepare(lda_model, corpus, id_dict)\n",
    "pyLDAvis.show(lda_prepared)"
   ]
  },
  {
   "cell_type": "markdown",
   "metadata": {},
   "source": [
    "# Save model"
   ]
  },
  {
   "cell_type": "code",
   "execution_count": null,
   "metadata": {},
   "outputs": [],
   "source": [
    "def save_model(lda, lda_path, id_dict, dict_path, corpus, corpus_path):\n",
    "    lda.save(lda_path)\n",
    "    id_dict.save(dict_path)\n",
    "    MmCorpus.serialize(corpus_path, corpus)"
   ]
  },
  {
   "cell_type": "markdown",
   "metadata": {},
   "source": [
    "# Train-test split"
   ]
  },
  {
   "cell_type": "code",
   "execution_count": null,
   "metadata": {},
   "outputs": [],
   "source": [
    "df = pd.read_csv(\"bbc-text.csv\")\n",
    "stopword_list = stopwords.words(\"english\")\n",
    "stopword_list = stopword_list + [\"said\", \"also\", \"would\", \"first\", \"last\", \"one\", \"like\", \"could\", \"us\", \"uk\", \"year\"]\n",
    "df = preprocess_gensim(df)"
   ]
  },
  {
   "cell_type": "code",
   "execution_count": null,
   "metadata": {},
   "outputs": [],
   "source": [
    "#labels = [\"business\", \"sport\", \"tech\", \"entertainment\", \"politics\"]\n",
    "#le = preprocessing.LabelEncoder()\n",
    "#le.fit(labels)\n",
    "#df['encoded_label'] = df['category'].apply(lambda x: le.transform([x])[0])\n",
    "dt_df = df.to_numpy()\n",
    "train, test = train_test_split(dt_df, test_size=0.2)"
   ]
  },
  {
   "cell_type": "code",
   "execution_count": null,
   "metadata": {},
   "outputs": [],
   "source": [
    "texts = train[:,1]\n",
    "id_dict = corpora.Dictionary(texts)\n",
    "corpus = [id_dict.doc2bow(text) for text in texts]\n",
    "number_topics = 5\n",
    "lda_model = create_lda_model_gensim(id_dict, corpus, number_topics)\n",
    "pprint(lda_model.print_topics())"
   ]
  },
  {
   "cell_type": "code",
   "execution_count": null,
   "metadata": {},
   "outputs": [],
   "source": [
    "def predict(model, id_dict, input_string):\n",
    "    input_list = simple_preprocess(input_string)\n",
    "    input_list = [word for word in input_list if word not in stopword_list]\n",
    "    bow = id_dict.doc2bow(input_list)\n",
    "    topics = model[bow]\n",
    "    topic, probability = max(topics, key=lambda item: item[1])\n",
    "    return topic"
   ]
  },
  {
   "cell_type": "code",
   "execution_count": null,
   "metadata": {},
   "outputs": [],
   "source": [
    "new_example = \"\"\"Manchester United players slumped to the turf \n",
    "at full-time in Germany on Tuesday in acknowledgement of what their \n",
    "latest pedestrian first-half display had cost them. The 3-2 loss at \n",
    "RB Leipzig means United will not be one of the 16 teams in the draw \n",
    "for the knockout stages of the Champions League. And this is not the \n",
    "only price for failure. The damage will be felt in the accounts, in \n",
    "the dealings they have with current and potentially future players \n",
    "and in the faith the fans have placed in manager Ole Gunnar Solskjaer. \n",
    "With Paul Pogba's agent angling for a move for his client and ex-United \n",
    "defender Phil Neville speaking of a \"witchhunt\" against his former team-mate \n",
    "Solskjaer, BBC Sport looks at the ramifications and reaction to a big loss for United.\"\"\"\n",
    "topics = predict(lda_model, id_dict, new_example)\n",
    "print(topics)\n",
    "topic, probability = max(topics, key=lambda item: item[1])\n",
    "print(topic, probability)"
   ]
  },
  {
   "cell_type": "markdown",
   "metadata": {},
   "source": [
    "# Evaluation"
   ]
  },
  {
   "cell_type": "code",
   "execution_count": null,
   "metadata": {},
   "outputs": [],
   "source": [
    "num_to_labels = {0:\"entertainment\", 1:\"politics\", 2:\"business\", 3:\"sport\", 4:\"tech\"}\n",
    "labels_to_num = {\"entertainment\": 0, \"politics\":1, \"business\":2, \"sport\":3, \"tech\":4}\n",
    "test_df = pd.DataFrame(test, columns=[\"category\", \"text\"])\n",
    "test_df[\"predicted\"] = test_df[\"text\"].apply(lambda x: predict(lda_model, id_dict, \" \".join(x)))\n",
    "test_df[\"gold\"] = test_df[\"category\"].apply(lambda x: labels_to_num[x])\n",
    "print(classification_report(test_df[\"gold\"].to_numpy(), test_df[\"predicted\"].to_numpy(), \n",
    "                            labels=list(num_to_labels.keys()), target_names=list(labels_to_num.keys())))"
   ]
  },
  {
   "cell_type": "code",
   "execution_count": null,
   "metadata": {},
   "outputs": [],
   "source": [
    "cm = confusion_matrix(test_df[\"gold\"].to_numpy(), test_df[\"predicted\"].to_numpy())\n",
    "print(cm) # predicted horizontal, actual vertical"
   ]
  }
 ],
 "metadata": {
  "kernelspec": {
   "display_name": "Python 3 (ipykernel)",
   "language": "python",
   "name": "python3"
  },
  "language_info": {
   "codemirror_mode": {
    "name": "ipython",
    "version": 3
   },
   "file_extension": ".py",
   "mimetype": "text/x-python",
   "name": "python",
   "nbconvert_exporter": "python",
   "pygments_lexer": "ipython3",
   "version": "3.9.7"
  }
 },
 "nbformat": 4,
 "nbformat_minor": 4
}
